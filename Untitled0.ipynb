{
  "nbformat": 4,
  "nbformat_minor": 0,
  "metadata": {
    "colab": {
      "provenance": []
    },
    "kernelspec": {
      "name": "python3",
      "display_name": "Python 3"
    },
    "language_info": {
      "name": "python"
    }
  },
  "cells": [
    {
      "cell_type": "code",
      "execution_count": null,
      "metadata": {
        "colab": {
          "base_uri": "https://localhost:8080/"
        },
        "id": "msksfPOWm1El",
        "outputId": "95e00db9-c45a-420c-b7d1-f9db0d9a6117"
      },
      "outputs": [
        {
          "output_type": "stream",
          "name": "stdout",
          "text": [
            "Digite um número: 2\n",
            "O número é par!\n"
          ]
        }
      ],
      "source": [
        "#1 par ou impar\n",
        "\n",
        "num = int(input(\"Digite um número: \"))\n",
        "\n",
        "if num%2==0:\n",
        "  print(\"O número é par!\")\n",
        "\n",
        "else:\n",
        "  print(\"O número é ímpar\")"
      ]
    },
    {
      "cell_type": "code",
      "source": [
        "#2 se é maior que 10\n",
        "\n",
        "num = int(input(\"Digite um número: \"))\n",
        "\n",
        "if num>10:\n",
        "  print(\"O núemro é maior que 10\")\n",
        "\n",
        "elif num==10:\n",
        "  print(\"O número é o 10\")\n",
        "\n",
        "else:\n",
        "  print(\"O número é menor que 10\")"
      ],
      "metadata": {
        "colab": {
          "base_uri": "https://localhost:8080/"
        },
        "id": "gHCngzCYn9aE",
        "outputId": "f353724f-6e0d-4dc3-d19c-2313c0724553"
      },
      "execution_count": null,
      "outputs": [
        {
          "output_type": "stream",
          "name": "stdout",
          "text": [
            "Digite um número: 1\n",
            "O número é menor que 10\n"
          ]
        }
      ]
    },
    {
      "cell_type": "code",
      "source": [
        "#3 menor maior de idade\n",
        "\n",
        "idade = int(input(\"Digite sua idade: \"))\n",
        "\n",
        "if idade >=18:\n",
        "  print(\"Você é maior de idade\")\n",
        "\n",
        "else:\n",
        "  print(\"Você é menor de idade\")"
      ],
      "metadata": {
        "colab": {
          "base_uri": "https://localhost:8080/"
        },
        "id": "8H_gubSOogqS",
        "outputId": "350e7d03-175e-46f2-b214-0a3e835149c9"
      },
      "execution_count": null,
      "outputs": [
        {
          "output_type": "stream",
          "name": "stdout",
          "text": [
            "Digite sua idade: 10\n",
            "Você é menor de idade\n"
          ]
        }
      ]
    },
    {
      "cell_type": "code",
      "source": [
        "#4 voto obrigatório opcional ou não tem voto\n",
        "\n",
        "idade = int(input(\"Digite sua idade: \"))\n",
        "\n",
        "if idade >=16 and idade <18 or idade>=70:\n",
        "  print(\"Seu voto é facultativo\")\n",
        "\n",
        "elif idade >=18 and idade <70:\n",
        "  print(\"Seu voto é obrigatório\")\n",
        "\n",
        "else:\n",
        "   print(\"Você não pode votar\")"
      ],
      "metadata": {
        "colab": {
          "base_uri": "https://localhost:8080/"
        },
        "id": "4Xwvz4Ifo8bQ",
        "outputId": "0bfa639f-a981-41a9-a2a0-ec0b73d27beb"
      },
      "execution_count": null,
      "outputs": [
        {
          "output_type": "stream",
          "name": "stdout",
          "text": [
            "Digite sua idade: 1\n",
            "Você não pode votar\n"
          ]
        }
      ]
    },
    {
      "cell_type": "code",
      "source": [
        "#5 positivo negativo\n",
        "\n",
        "num = int(input(\"Digite um número: \"))\n",
        "\n",
        "if num >=0:\n",
        "  print(\"O número é positivo\")\n",
        "\n",
        "else:\n",
        "  print(\"O número é negativo\")\n"
      ],
      "metadata": {
        "colab": {
          "base_uri": "https://localhost:8080/"
        },
        "id": "Md-5gmyPqsFX",
        "outputId": "9e3b2b8e-361b-40dd-c994-24325c123c80"
      },
      "execution_count": null,
      "outputs": [
        {
          "output_type": "stream",
          "name": "stdout",
          "text": [
            "Digite um número: 1\n",
            "O número é positivo\n"
          ]
        }
      ]
    },
    {
      "cell_type": "code",
      "source": [
        "#6 notas\n",
        "\n",
        "nota = int(input(\"Digite sua nota: \"))\n",
        "\n",
        "\n",
        "if nota <3:\n",
        "  print(\"Sua nota é E\")\n",
        "\n",
        "elif nota <5:\n",
        "  print(\"Sua nota é D\")\n",
        "\n",
        "elif nota <7:\n",
        "  print(\"Sua nota é C\")\n",
        "\n",
        "elif nota <9:\n",
        "  print(\"Sua nota é B\")\n",
        "\n",
        "elif nota == 9 or nota==10:\n",
        "  print(\"Sua nota é A\")\n",
        "\n"
      ],
      "metadata": {
        "colab": {
          "base_uri": "https://localhost:8080/"
        },
        "id": "A4w0nZUIrHbQ",
        "outputId": "e172952b-3ec0-4f39-ef5f-ae9ffdc5507d"
      },
      "execution_count": null,
      "outputs": [
        {
          "output_type": "stream",
          "name": "stdout",
          "text": [
            "Digite sua nota: 0\n",
            "Sua nota é E\n"
          ]
        }
      ]
    },
    {
      "cell_type": "code",
      "source": [
        "#7\n",
        "\n",
        "idade = int(input(\"Digite sua idade: \"))\n",
        "\n",
        "if idade<=12 or idade>=60:\n",
        "  print(\"Tem diteito a desconto!\")\n",
        "\n",
        "else:\n",
        "  print(\"Não tem direito  desconto\")"
      ],
      "metadata": {
        "colab": {
          "base_uri": "https://localhost:8080/"
        },
        "id": "mSVLS5wxrkJZ",
        "outputId": "eff2a729-2e99-4870-a933-c05696442367"
      },
      "execution_count": null,
      "outputs": [
        {
          "output_type": "stream",
          "name": "stdout",
          "text": [
            "Digite sua idade: 11\n",
            "Tem diteito a desconto!\n"
          ]
        }
      ]
    },
    {
      "cell_type": "code",
      "source": [
        "#8\n",
        "\n",
        "c1 = int(input(\"Digite o 1° comprimento: \"))\n",
        "c2 = int(input(\"Digite o 2° comprimento: \"))\n",
        "c3 = int(input(\"Digite o 3° comprimento: \"))\n",
        "\n",
        "\n",
        "if (c1+c2 >c3) and (c2+c3 >c1) and (c1+c3 >c2):\n",
        "\n",
        "   if (c1 == c2) and (c1 == c3) and (c2 == c3):\n",
        "       print(\"O triângulo é equilátero\")\n",
        "\n",
        "   elif (c1 != c2) and (c1 != c3) and (c2 != c3):\n",
        "       print(\"O triângulo é escaleno\")\n",
        "\n",
        "   elif (c1 == c2) or (c2 == c3) or (c1==c3):\n",
        "       print(\"O triângulo é isósceles\")\n",
        "else:\n",
        "   print(\"Os comprimentos não podem formar um triângulo\")\n"
      ],
      "metadata": {
        "colab": {
          "base_uri": "https://localhost:8080/"
        },
        "id": "WpcQ4y9SsSBV",
        "outputId": "9d1e8061-7309-48c0-c78b-44c18e374f25"
      },
      "execution_count": null,
      "outputs": [
        {
          "output_type": "stream",
          "name": "stdout",
          "text": [
            "Digite o 1° comprimento: 2\n",
            "Digite o 2° comprimento: 2\n",
            "Digite o 3° comprimento: 2\n",
            "O triângulo é equilátero\n"
          ]
        }
      ]
    },
    {
      "cell_type": "code",
      "source": [
        "#9 desconto\n",
        "\n",
        "valor = float(input(\"Digite o valor total da compra: R$\"))\n",
        "\n",
        "if valor<100:\n",
        "  print(f\"o desconto é de %5, o valor ficará: R${valor-(valor*(5/100))}\")\n",
        "\n",
        "elif valor>=100 or valor<=500:\n",
        "  print(f\"O desconto é de 10%, o valor ficará: R${valor-(valor*(10/100))}\")\n",
        "\n",
        "elif valor>500:\n",
        "  print(f\"O desconto é de 15%, o valor ficará: R${valor-(valor*(15/100))}\")"
      ],
      "metadata": {
        "colab": {
          "base_uri": "https://localhost:8080/"
        },
        "id": "N5e0DqFcsxHS",
        "outputId": "59151d4e-0afc-49d9-bb11-58326756b981"
      },
      "execution_count": null,
      "outputs": [
        {
          "output_type": "stream",
          "name": "stdout",
          "text": [
            "Digite o valor total da compra: R$150.90\n",
            "O desconto é de 10%, o valor ficará: R$135.81\n"
          ]
        }
      ]
    },
    {
      "cell_type": "code",
      "source": [
        "#10 ano bissexto\n",
        "\n",
        "ano = int(input(\"Digite um ano: \"))\n",
        "if ano%4 == 0 and ano%100 != 0 or ano % 400 == 0:\n",
        "  print(\"O ano é bissexto\")\n",
        "else:\n",
        "  print(\"Não é bissexto\")"
      ],
      "metadata": {
        "id": "a13Y-MV2zHQ9"
      },
      "execution_count": null,
      "outputs": []
    },
    {
      "cell_type": "code",
      "source": [
        "#11 imc\n",
        "\n",
        "peso = float(input(\"Digite seu peso: \"))\n",
        "altura = float(input(\"Digite sua altura: \"))\n",
        "imc = peso/(altura*altura)\n",
        "print(f\"Seu imc é {imc}\")\n",
        "if imc <= 18.5:\n",
        "  print(\"Você está abaixo do peso\")\n",
        "elif imc <= 24.9:\n",
        "  print(\"Você está com imc normal\")\n",
        "elif imc <= 29.9:\n",
        "  print(\"Você está com sobrepeso\")\n",
        "elif imc>30:\n",
        "  print(\"Você está com obesidade\")\n"
      ],
      "metadata": {
        "id": "b8_SeWNEt-eW"
      },
      "execution_count": null,
      "outputs": []
    },
    {
      "cell_type": "code",
      "source": [
        "#12 crescente decrescente\n",
        "\n",
        "num1 = int(input(\"Digite um número em ordem crescente ou descrescente: \"))\n",
        "num2 = int(input(\"Digite um número: \"))\n",
        "num3 = int(input(\"Digite um número: \"))\n",
        "\n",
        "if num1>num2>num3:\n",
        "  print(\"Decrescente\")\n",
        "\n",
        "elif num1<num2<num3:\n",
        "  print(\"Crescente\")\n",
        "\n",
        "elif num1==num2==num3:\n",
        "  print(\"Os números são iguais\")\n",
        "\n",
        "else:\n",
        "  (\"Ordem inválida\")"
      ],
      "metadata": {
        "colab": {
          "base_uri": "https://localhost:8080/"
        },
        "id": "fH9-NEv7tYLZ",
        "outputId": "6641545e-9f32-4657-a861-52a587a2f042"
      },
      "execution_count": null,
      "outputs": [
        {
          "output_type": "stream",
          "name": "stdout",
          "text": [
            "Digite um número: 3\n",
            "Digite um número: 2\n",
            "Digite um número: 1\n",
            "Decrescente\n"
          ]
        }
      ]
    },
    {
      "cell_type": "code",
      "source": [
        "#13 temperatura\n",
        "\n",
        "temp = int(input(\"Digite a temperatura em celcius: \"))\n",
        "\n",
        "if temp<10:\n",
        "  print(\"Frio\")\n",
        "\n",
        "elif temp>=10 or temp<25:\n",
        "  print(\"Acochengante\")\n",
        "\n",
        "elif temp>25 or temp<40:\n",
        "  print(\"Quente\")\n",
        "\n",
        "elif temp>40:\n",
        "  print(\"Muito quenteeeeee\")\n",
        "\n",
        "  r\"^"
      ],
      "metadata": {
        "colab": {
          "base_uri": "https://localhost:8080/"
        },
        "id": "xkD_c1I2ur1o",
        "outputId": "f4712353-9fdd-4f44-8ec8-8e82b8755dfd"
      },
      "execution_count": null,
      "outputs": [
        {
          "output_type": "stream",
          "name": "stdout",
          "text": [
            "Digite a temperatura em celcius: 12\n",
            "Acochengante\n"
          ]
        }
      ]
    },
    {
      "cell_type": "code",
      "source": [
        "#14 data inverter\n",
        "\n",
        "dia = int(input(\"Digite o dia: \"))\n",
        "mes = int(input(\"Digite o mês: \"))\n",
        "ano = int(input(\"Digite o ano: \"))\n",
        "\n",
        "print(f\"A data é {ano}/{mes}/{dia}\")"
      ],
      "metadata": {
        "id": "tiCdEd2azAse",
        "colab": {
          "base_uri": "https://localhost:8080/"
        },
        "outputId": "d299e87c-36e3-4259-b09c-372b1ead9728"
      },
      "execution_count": null,
      "outputs": [
        {
          "output_type": "stream",
          "name": "stdout",
          "text": [
            "Digite o dia: 08\n",
            "Digite o mês: 03\n",
            "Digite o ano: 2005\n",
            "A data é 2005/3/8\n"
          ]
        }
      ]
    },
    {
      "cell_type": "code",
      "source": [
        "#15 senha\n",
        "import re\n",
        "\n",
        "print(\"▶ Sua senha deve conter: \\n → Pelo menos 8 caracteres \\n → Pelo menos uma letra maiúscula \\n → Pelo menos uma letra minúscula \\n → Pelo menos um número \\n → Pelo menos um caractere especial (@,#,$,%,&)\")\n",
        "senha = input(\"▶ Digite sua senha: \")\n",
        "\n",
        "if len(senha)<8:\n",
        "  print(\"A senha não tem o mínimo de caracteres!\")\n",
        "\n",
        "elif not re.search(\"[A-Z]\", senha):\n",
        "  print(\"Falta pelo menos uma letra maiúscula!\")\n",
        "\n",
        "elif not re.search(\"[a-z]\", senha):\n",
        "  print(\"Falta pelo menos uma letra minúscula!\")\n",
        "\n",
        "elif not re.search(\"[0-9]\",senha):\n",
        "  print(\"Falta pelo menos um número!\")\n",
        "\n",
        "elif not re.search(\"[@#$%&]\", senha):\n",
        "  print(\"Falta pelo menos um caractere especial!\")\n",
        "\n",
        "else:\n",
        "  print(\"Senha válida!\")\n"
      ],
      "metadata": {
        "colab": {
          "base_uri": "https://localhost:8080/"
        },
        "id": "vOlvs_KF0rHz",
        "outputId": "151988b0-72cb-455b-d0a3-af48c678039b"
      },
      "execution_count": null,
      "outputs": [
        {
          "output_type": "stream",
          "name": "stdout",
          "text": [
            "▶ Sua senha deve conter: \n",
            " → Pelo menos 8 caracteres \n",
            " → Pelo menos uma letra maiúscula \n",
            " → Pelo menos uma letra minúscula \n",
            " → Pelo menos um número \n",
            " → Pelo menos um caractere especial (@,#,$,%,&)\n",
            "▶ Digite sua senha: 1A@#$%&b\n",
            "Senha válida!\n"
          ]
        }
      ]
    },
    {
      "cell_type": "code",
      "source": [
        "#16 raiz\n",
        "\n",
        "raiz = int(input(\"Digite um número para calcular raiz a quadrada: \"))\n",
        "raizquadrada = raiz ** 0.5\n",
        "\n",
        "if raiz > 100:\n",
        "  print(\"Número muito grande, reduza para um valor abaixo de 100\")\n",
        "\n",
        "elif raiz < 0:\n",
        "  print(\"Não é possível calcular a raiz quadrada de um número negativo\")\n",
        "\n",
        "else:\n",
        "  print(f\"A raiz quadrada de {raiz} é {raizquadrada:.2f}\")\n",
        "\n",
        "\n"
      ],
      "metadata": {
        "colab": {
          "base_uri": "https://localhost:8080/"
        },
        "id": "mBi9SsLIzi43",
        "outputId": "eff08864-6f50-4436-92f6-84377c064c10"
      },
      "execution_count": null,
      "outputs": [
        {
          "output_type": "stream",
          "name": "stdout",
          "text": [
            "Digite um número para calcular raiz a quadrada: 2\n",
            "A raiz quadrada de 2 é 1.41\n"
          ]
        }
      ]
    },
    {
      "cell_type": "code",
      "source": [
        "#17 data\n",
        "\n",
        "data = input(\"Digite a data (dd/mm/aaaa): \")\n",
        "partes = data.split(\"/\")\n",
        "dia = int(partes[0])\n",
        "mes = int(partes[1])\n",
        "ano = int(partes[2])\n",
        "\n",
        "\n",
        "if 1 <= mes <= 12:\n",
        "    if mes in [1, 3, 5, 7, 8, 10, 12]:\n",
        "        if 1 <= dia <= 31:\n",
        "            data_formatada = f\"{ano}/{mes:02d}/{dia:02d}\"\n",
        "            print(\"Data no formato aaaa/mm/dd:\", data_formatada)\n",
        "        else:\n",
        "            print(\"Data inválida! Esse mês tem apenas 31 dias.\")\n",
        "\n",
        "    elif mes in [4, 6, 9, 11]:\n",
        "        if 1 <= dia <= 30:\n",
        "            data_formatada = f\"{ano}/{mes:02d}/{dia:02d}\"\n",
        "            print(\"Data no formato aaaa/mm/dd:\", data_formatada)\n",
        "        else:\n",
        "            print(\"Data inválida! Esse mês tem apenas 30 dias.\")\n",
        "\n",
        "    elif mes == 2:\n",
        "        if (ano % 4 == 0 and ano % 100 != 0) or (ano % 400 == 0):\n",
        "            if 1 <= dia <= 29:\n",
        "                data_formatada = f\"{ano}/{mes:02d}/{dia:02d}\"\n",
        "                print(\"Data no formato aaaa/mm/dd:\", data_formatada)\n",
        "            else:\n",
        "                print(\"Data inválida! Esse mês tem apenas 29 dias.\")\n",
        "        else:\n",
        "            if 1 <= dia <= 28:\n",
        "                data_formatada = f\"{ano}/{mes:02d}/{dia:02d}\"\n",
        "                print(\"Data no formato aaaa/mm/dd:\", data_formatada)\n",
        "            else:\n",
        "                print(\"Data inválida! Esse mês tem apenas 28 dias.\")\n",
        "else:\n",
        "    print(\"Mês inválido! Digite um mês de 1 a 12.\")"
      ],
      "metadata": {
        "colab": {
          "base_uri": "https://localhost:8080/"
        },
        "id": "-j20mH9J2_jm",
        "outputId": "fd5c395e-fcfe-4836-9b83-1533e4efd018"
      },
      "execution_count": 8,
      "outputs": [
        {
          "output_type": "stream",
          "name": "stdout",
          "text": [
            "Digite a data (dd/mm/aaaa): 29/02/2025\n",
            "Data inválida! Esse mês tem apenas 28 dias.\n"
          ]
        }
      ]
    },
    {
      "cell_type": "code",
      "source": [
        "#18 expresão matemática\n",
        "\n",
        "expre = input(\"Digite uma expressão matemática: \")\n",
        "\n",
        "print(f\"O resultado da expressão é {eval(expre)}\")\n"
      ],
      "metadata": {
        "colab": {
          "base_uri": "https://localhost:8080/"
        },
        "id": "JLGeq0-I3DIi",
        "outputId": "53f77fb9-326e-4fc6-bb49-b7bdf2bbe9a7"
      },
      "execution_count": null,
      "outputs": [
        {
          "output_type": "stream",
          "name": "stdout",
          "text": [
            "Digite uma expressão matemática: 3 + 5 * (2-8)\n",
            "-27\n"
          ]
        }
      ]
    },
    {
      "cell_type": "code",
      "source": [
        "#19 cpf\n",
        "\n",
        "import re\n",
        "\n",
        "def validar_cpf(cpf: str) -> bool:\n",
        "    if not re.match(r'^\\d{3}\\.\\d{3}\\.\\d{3}-\\d{2}$', cpf):\n",
        "        return False\n",
        "\n",
        "    cpf = ''.join([c for c in cpf if c.isdigit()])\n",
        "\n",
        "    if len(cpf) != 11:\n",
        "        return False\n",
        "\n",
        "    if cpf == cpf[0] * 11:\n",
        "        return False\n",
        "\n",
        "    soma_1 = sum(int(cpf[i]) * (10 - i) for i in range(9))\n",
        "    digito_1 = (soma_1 * 10 % 11) % 10\n",
        "\n",
        "    soma_2 = sum(int(cpf[i]) * (11 - i) for i in range(10))\n",
        "    digito_2 = (soma_2 * 10 % 11) % 10\n",
        "\n",
        "\n",
        "    return cpf[-2:] == f\"{digito_1}{digito_2}\"\n",
        "\n",
        "cpf = input(\"Digite seu CPF: \")\n",
        "if validar_cpf(cpf):\n",
        "    print(\"CPF válido!\")\n",
        "else:\n",
        "    print(\"CPF inválido!\")\n"
      ],
      "metadata": {
        "colab": {
          "base_uri": "https://localhost:8080/"
        },
        "id": "7M22ClnQ0jbK",
        "outputId": "7d52cd7a-2d8b-4849-f28a-ba2f0bc47900"
      },
      "execution_count": null,
      "outputs": [
        {
          "output_type": "stream",
          "name": "stdout",
          "text": [
            "Digite seu CPF: 504.430.808-01\n",
            "CPF válido!\n"
          ]
        }
      ]
    }
  ]
}