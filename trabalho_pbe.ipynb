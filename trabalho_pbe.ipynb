{
  "nbformat": 4,
  "nbformat_minor": 0,
  "metadata": {
    "colab": {
      "provenance": []
    },
    "kernelspec": {
      "name": "python3",
      "display_name": "Python 3"
    },
    "language_info": {
      "name": "python"
    }
  },
  "cells": [
    {
      "cell_type": "code",
      "execution_count": null,
      "metadata": {
        "id": "S7KnVupgsHWB",
        "colab": {
          "base_uri": "https://localhost:8080/"
        },
        "outputId": "4d1ad68f-8897-4a53-9f35-f57d415c103c"
      },
      "outputs": [
        {
          "output_type": "stream",
          "name": "stdout",
          "text": [
            "joão\n"
          ]
        }
      ],
      "source": [
        "#1\n",
        "nome = \"joão\"\n",
        "\n",
        "print(nome)"
      ]
    },
    {
      "cell_type": "code",
      "source": [
        "#2\n",
        "a = 5\n",
        "b = 10\n",
        "\n",
        "soma = a + b\n",
        "sub = a - b\n",
        "mult = a * b\n",
        "div = a / b\n",
        "\n",
        "print(soma, sub, mult, div)"
      ],
      "metadata": {
        "colab": {
          "base_uri": "https://localhost:8080/"
        },
        "id": "ddQl_epltTgo",
        "outputId": "14c66040-a879-4b30-a9b7-c9ccbfbe9552"
      },
      "execution_count": null,
      "outputs": [
        {
          "output_type": "stream",
          "name": "stdout",
          "text": [
            "15 -5 50 0.5\n"
          ]
        }
      ]
    },
    {
      "cell_type": "code",
      "source": [
        "#3\n",
        "preco = 50\n",
        "desconto = 10\n",
        "\n",
        "print(f\" O desconto é de {preco-desconto}\")"
      ],
      "metadata": {
        "id": "GuWhuvIzt--X",
        "colab": {
          "base_uri": "https://localhost:8080/"
        },
        "outputId": "c76be01f-ac9b-4586-edf6-982a0e6ee244"
      },
      "execution_count": null,
      "outputs": [
        {
          "output_type": "stream",
          "name": "stdout",
          "text": [
            " O desconto é de 40\n"
          ]
        }
      ]
    },
    {
      "cell_type": "code",
      "source": [
        "#4\n",
        "resultado = 10+5*2\n",
        "\n",
        "print(resultado)"
      ],
      "metadata": {
        "id": "uAYplX--v46q",
        "colab": {
          "base_uri": "https://localhost:8080/"
        },
        "outputId": "6fd1cac7-094d-4db7-a791-7a41d4e12307"
      },
      "execution_count": null,
      "outputs": [
        {
          "output_type": "stream",
          "name": "stdout",
          "text": [
            "20\n"
          ]
        }
      ]
    },
    {
      "cell_type": "code",
      "source": [
        "#5\n",
        "\n",
        "valor = \"150\"\n",
        "int_valor = int(valor)\n",
        "\n",
        "print(int_valor/2)\n"
      ],
      "metadata": {
        "colab": {
          "base_uri": "https://localhost:8080/"
        },
        "id": "Y4arQVCDvjo7",
        "outputId": "56612658-7831-4959-de99-6e507511e3d4"
      },
      "execution_count": null,
      "outputs": [
        {
          "output_type": "stream",
          "name": "stdout",
          "text": [
            "75.0\n"
          ]
        }
      ]
    },
    {
      "cell_type": "code",
      "source": [
        "#7\n",
        "\n",
        "a = int(input(\"Digite um valor: \"))\n",
        "b = int(input(\"Digite um valor: \"))\n",
        "\n",
        "print(f\"A soma dos valores {a} + {b} é {a+b}\")"
      ],
      "metadata": {
        "id": "2-fS_AcSkFew",
        "colab": {
          "base_uri": "https://localhost:8080/"
        },
        "outputId": "dc922bef-9bbc-4446-e596-229fb8143b7a"
      },
      "execution_count": null,
      "outputs": [
        {
          "output_type": "stream",
          "name": "stdout",
          "text": [
            "Digite um valor: 5\n",
            "Digite um valor: 5\n",
            "A soma dos valores 5 + 5 é 10\n"
          ]
        }
      ]
    },
    {
      "cell_type": "code",
      "source": [
        "#8\n",
        "\n",
        "x = int(input(\"Digite um valor: \"))\n",
        "y = int(input(\"Digite um valor: \"))\n",
        "\n",
        "print(f\"A divisão inteira de {x} por {y} é {x//y}\")"
      ],
      "metadata": {
        "colab": {
          "base_uri": "https://localhost:8080/"
        },
        "id": "LUCUkFXpl9s9",
        "outputId": "31a6fba5-ee34-4aba-8b55-c1d3448617a1"
      },
      "execution_count": null,
      "outputs": [
        {
          "output_type": "stream",
          "name": "stdout",
          "text": [
            "Digite um valor: 20\n",
            "Digite um valor: 5\n",
            "A divisão inteira de 20 por 5 é 4\n"
          ]
        }
      ]
    },
    {
      "cell_type": "code",
      "source": [
        "#9\n",
        "\n",
        "num1 = int(input(\"Digite um valor: \"))\n",
        "num2 = int(input(\"Digite um valor: \"))\n",
        "\n",
        "print(f\"O valor {num1} é maior que {num2}? {num1>num2}\")\n"
      ],
      "metadata": {
        "colab": {
          "base_uri": "https://localhost:8080/"
        },
        "id": "UVPfV-ckmR2H",
        "outputId": "08adc577-92b8-49ba-e349-ed5cadb7b27c"
      },
      "execution_count": null,
      "outputs": [
        {
          "output_type": "stream",
          "name": "stdout",
          "text": [
            "Digite um valor: 5\n",
            "Digite um valor: 1\n",
            "O valor 5 é maior que 1? True\n"
          ]
        }
      ]
    },
    {
      "cell_type": "code",
      "source": [
        "#10\n",
        "\n",
        "idade = int(input(\"Digite sua idade\"))\n",
        "\n",
        "print(f\" Você viveu {idade*365}\")"
      ],
      "metadata": {
        "colab": {
          "base_uri": "https://localhost:8080/"
        },
        "id": "GOjtUysJnHYl",
        "outputId": "a610a960-c868-4c57-92bc-3a34b12b45b1"
      },
      "execution_count": null,
      "outputs": [
        {
          "output_type": "stream",
          "name": "stdout",
          "text": [
            "Digite sua idade20\n",
            " Você viveu 7300\n"
          ]
        }
      ]
    },
    {
      "cell_type": "code",
      "source": [
        "#11\n",
        "\n",
        "base = int(input(\"Digite a base: \"))\n",
        "expoente = int(input(\"Digite o expoente: \"))\n",
        "\n",
        "print(f\"O valor {base} elevado a {expoente} é {base**expoente}\")"
      ],
      "metadata": {
        "colab": {
          "base_uri": "https://localhost:8080/"
        },
        "id": "oGgfh8bVn9kY",
        "outputId": "17db56a7-4d43-41ca-9813-749ee6af75e2"
      },
      "execution_count": null,
      "outputs": [
        {
          "output_type": "stream",
          "name": "stdout",
          "text": [
            "Digite a base: 9\n",
            "Digite o expoente: 2\n",
            "O valor 9 elevado a 2 é 81\n"
          ]
        }
      ]
    },
    {
      "cell_type": "code",
      "source": [
        "#12\n",
        "\n",
        "preco = int(input(\"Digite o valor: \"))\n",
        "\n",
        "str_preco = str(preco)\n",
        "\n",
        "print(f\"O preço é R${str_preco}\")\n"
      ],
      "metadata": {
        "colab": {
          "base_uri": "https://localhost:8080/"
        },
        "id": "TAX-Io3wofIi",
        "outputId": "c4094c14-d3c6-4b64-ed73-a228461c3ac1"
      },
      "execution_count": null,
      "outputs": [
        {
          "output_type": "stream",
          "name": "stdout",
          "text": [
            "Digite o valor: 10\n",
            "O preço é R$10\n"
          ]
        }
      ]
    },
    {
      "cell_type": "code",
      "source": [
        "#13\n",
        "\n",
        "raio = int(input(\"Digite o valor do raio: \"))\n",
        "\n",
        "print(f\"A área do circulo é {3.14*(raio*raio)}\")"
      ],
      "metadata": {
        "colab": {
          "base_uri": "https://localhost:8080/"
        },
        "id": "vKgOiHa7pUZ7",
        "outputId": "628f19c2-2c88-4dea-ca3c-000ad1829960"
      },
      "execution_count": null,
      "outputs": [
        {
          "output_type": "stream",
          "name": "stdout",
          "text": [
            "Digite o valor do raio: 5\n",
            "A área do circulo é 78.5\n"
          ]
        }
      ]
    },
    {
      "cell_type": "code",
      "source": [
        "#14\n",
        "\n",
        "a = int(input(\"Digite um valor: \"))\n",
        "b = int(input(\"Digite um valor: \"))\n",
        "\n",
        "a = a+b\n",
        "b = a-b\n",
        "a = a-b\n",
        "\n",
        "print(a,b)\n"
      ],
      "metadata": {
        "colab": {
          "base_uri": "https://localhost:8080/"
        },
        "id": "3xSvk8QvqcoT",
        "outputId": "ce9c52ed-9c8a-4561-b59e-4cbe8a8870ba"
      },
      "execution_count": null,
      "outputs": [
        {
          "output_type": "stream",
          "name": "stdout",
          "text": [
            "Digite um valor: 1\n",
            "Digite um valor: 2\n",
            "2 1\n"
          ]
        }
      ]
    },
    {
      "cell_type": "code",
      "source": [
        "#15\n",
        "\n",
        "nota1 = int(input(\"Digite nota 1: \"))\n",
        "nota2 = int(input(\"Digite nota 2: \"))\n",
        "nota3 = int(input(\"Digite nota 3: \"))\n",
        "\n",
        "media = (nota1*2 + nota2*3 + nota3*5)/2+3+5\n",
        "\n",
        "print(f\"Média ponderada é {media}\")"
      ],
      "metadata": {
        "colab": {
          "base_uri": "https://localhost:8080/"
        },
        "id": "qEBPDu9WrHjc",
        "outputId": "cba864c5-2f6c-4e13-e9eb-0246782938f1"
      },
      "execution_count": null,
      "outputs": [
        {
          "output_type": "stream",
          "name": "stdout",
          "text": [
            "Digite nota 1: 1\n",
            "Digite nota 2: 1\n",
            "Digite nota 3: 1\n",
            "Média ponderada é 13.0\n"
          ]
        }
      ]
    },
    {
      "cell_type": "code",
      "source": [
        "#16\n",
        "\n",
        "x1 = int(input(\"Digite o valor valor 1 do ponto a: \"))\n",
        "x2 = int(input(\"Digite o valor valor 2 do ponto a: \"))\n",
        "y1 = int(input(\"Digite o valor valor 1 do ponto b: \"))\n",
        "y2 = int(input(\"Digite o valor valor 2 do ponto b: \"))\n",
        "\n",
        "distancia = ((x2 - x1) ** 2 + (y2 - y1) ** 2)**(1/2)\n",
        "\n",
        "\n",
        "print(f\"A distancia entre a e b é: {distancia}\")\n"
      ],
      "metadata": {
        "colab": {
          "base_uri": "https://localhost:8080/"
        },
        "id": "PcH2Qtbor54W",
        "outputId": "7c553d43-e788-40a3-e6a7-d64de847f473"
      },
      "execution_count": null,
      "outputs": [
        {
          "output_type": "stream",
          "name": "stdout",
          "text": [
            "Digite o valor valor 1 do ponto a: 2\n",
            "Digite o valor valor 2 do ponto a: 5\n",
            "Digite o valor valor 1 do ponto b: 5\n",
            "Digite o valor valor 2 do ponto b: 2\n",
            "A distancia entre a e b é: 4.242640687119285\n"
          ]
        }
      ]
    }
  ]
}